{
 "cells": [
  {
   "cell_type": "code",
   "execution_count": 22,
   "id": "37fcbba5",
   "metadata": {},
   "outputs": [],
   "source": [
    "import os\n",
    "\n",
    "STORY_DIR = \"story\"\n",
    "\n",
    "\n",
    "def load_all_stories():\n",
    "    \"\"\"\n",
    "    Read all story files and return:\n",
    "      - stories[file] = {\"from_file\": str|None, \"title\": str, \"text\": str}\n",
    "      - links[file] = list of child files (filenames)\n",
    "    Resolution rules for From:\n",
    "      - case-insensitive\n",
    "      - accepts \"start\" or \"start.txt\"\n",
    "      - \"none\" (or empty) -> treated as no parent\n",
    "      - if From cannot be resolved to an existing filename, it is ignored\n",
    "    \"\"\"\n",
    "    # collect filenames\n",
    "    files = sorted(\n",
    "        [f for f in os.listdir(STORY_DIR) if f.lower().endswith(\".txt\")]\n",
    "    )\n",
    "\n",
    "    # map lowercased filename -> real filename (for case-insensitive resolution)\n",
    "    lower_to_real = {f.lower(): f for f in files}\n",
    "\n",
    "    stories = {}\n",
    "    links = {}\n",
    "\n",
    "    for filename in files:\n",
    "        path = os.path.join(STORY_DIR, filename)\n",
    "        with open(path, \"r\", encoding=\"utf-8\") as fh:\n",
    "            raw_lines = [ln.rstrip(\"\\n\") for ln in fh.readlines()]\n",
    "\n",
    "        # parse fields (allow empty lines between header and body)\n",
    "        from_raw = None\n",
    "        title = None\n",
    "        text_lines = []\n",
    "        for ln in raw_lines:\n",
    "            stripped = ln.strip()\n",
    "            if not stripped and text_lines:\n",
    "                # empty line after we started text -> preserve paragraph break\n",
    "                text_lines.append(\"\")\n",
    "                continue\n",
    "\n",
    "            low = stripped.lower()\n",
    "            if low.startswith(\"from:\"):\n",
    "                # raw parent text (keep original casing for better error messages)\n",
    "                from_raw = stripped.split(\":\", 1)[1].strip()\n",
    "            elif low.startswith(\"title:\"):\n",
    "                title = stripped.split(\":\", 1)[1].strip()\n",
    "            else:\n",
    "                text_lines.append(ln)\n",
    "\n",
    "        # normalize/resolve the parent (from_raw) to one of the actual filenames, if possible\n",
    "        parent = None\n",
    "        if from_raw:\n",
    "            r = from_raw.strip().lower()\n",
    "            if r not in (\"\", \"none\"):\n",
    "                # try directly (maybe contributor wrote \"start.txt\")\n",
    "                if r in lower_to_real:\n",
    "                    parent = lower_to_real[r]\n",
    "                else:\n",
    "                    # try with \".txt\" appended (contributor wrote \"start\")\n",
    "                    if not r.endswith(\".txt\") and (r + \".txt\") in lower_to_real:\n",
    "                        parent = lower_to_real[r + \".txt\"]\n",
    "                    else:\n",
    "                        # try matching against filename without extension (e.g. \"start\" -> \"start.txt\")\n",
    "                        for lower_fname, real_fname in lower_to_real.items():\n",
    "                            if lower_fname.endswith(\".txt\") and lower_fname[:-4] == r:\n",
    "                                parent = real_fname\n",
    "                                break\n",
    "                # if parent still None, we ignore the bad From: value to avoid orphan links\n",
    "                # (we preserve the raw value in stories for debugging if desired)\n",
    "\n",
    "        stories[filename] = {\n",
    "            \"from_file\": parent,               # resolved real filename or None\n",
    "            \"title\": title if title else filename,\n",
    "            \"text\": \"\\n\".join(text_lines).strip()\n",
    "        }\n",
    "\n",
    "        # only create a link if parent is a real, resolved filename\n",
    "        if parent:\n",
    "            links.setdefault(parent, []).append(filename)\n",
    "\n",
    "    return stories, links\n"
   ]
  },
  {
   "cell_type": "code",
   "execution_count": 23,
   "id": "9e8497cc",
   "metadata": {},
   "outputs": [
    {
     "name": "stdout",
     "output_type": "stream",
     "text": [
      "stories = {'abandoned_hut.txt': {'from_file': None, 'title': 'abandon hut', 'text': 'Hidden between mossy oaks, you spot an abandoned wooden hut. \\nThe door creaks open as the wind whistles through the cracks.'}, 'cave.txt': {'from_file': 'start.txt', 'title': 'Explore the Cave', 'text': 'The cave is cold and damp. You see glowing eyes\\nstaring at you in the darkness.'}, 'riverbank.txt': {'from_file': None, 'title': 'river bank', 'text': 'You push through the trees and find a sparkling river. \\nThe water rushes swiftly, and you see a narrow path following the riverbank.'}, 'start.txt': {'from_file': None, 'title': 'The Beginning', 'text': 'You are standing at the entrance of a dark forest.\\nThe trees look tall and ancient.'}}\n",
      "****************************************\n",
      "links = {'start.txt': ['cave.txt']}\n"
     ]
    }
   ],
   "source": [
    "\n",
    "# Debug print\n",
    "stories, links = load_all_stories()\n",
    "print(f\"{stories = }\")\n",
    "print('*' * 40)\n",
    "print(f\"{links = }\")\n"
   ]
  },
  {
   "cell_type": "code",
   "execution_count": 24,
   "id": "f6aea5e1",
   "metadata": {},
   "outputs": [
    {
     "data": {
      "text/plain": [
       "{'start.txt': ['cave.txt']}"
      ]
     },
     "execution_count": 24,
     "metadata": {},
     "output_type": "execute_result"
    }
   ],
   "source": [
    "# show all from_files in stories\n",
    "links"
   ]
  },
  {
   "cell_type": "code",
   "execution_count": null,
   "id": "34725637",
   "metadata": {},
   "outputs": [],
   "source": []
  }
 ],
 "metadata": {
  "kernelspec": {
   "display_name": "Python 3",
   "language": "python",
   "name": "python3"
  },
  "language_info": {
   "codemirror_mode": {
    "name": "ipython",
    "version": 3
   },
   "file_extension": ".py",
   "mimetype": "text/x-python",
   "name": "python",
   "nbconvert_exporter": "python",
   "pygments_lexer": "ipython3",
   "version": "3.13.7"
  }
 },
 "nbformat": 4,
 "nbformat_minor": 5
}
